{
 "cells": [
  {
   "cell_type": "markdown",
   "metadata": {},
   "source": [
    "# Z Estimator"
   ]
  },
  {
   "cell_type": "markdown",
   "metadata": {},
   "source": [
    "## Importing libraries"
   ]
  },
  {
   "cell_type": "code",
   "execution_count": 91,
   "metadata": {},
   "outputs": [],
   "source": [
    "# Libraries to help with reading and manipulating data\n",
    "import numpy as np\n",
    "import gc\n",
    "import pandas as pd\n",
    "from ydata_profiling import ProfileReport\n",
    "import matplotlib.pyplot as plt\n",
    "import seaborn as sns\n",
    "\n",
    "import warnings\n",
    "warnings.filterwarnings(\"ignore\")\n",
    "\n",
    "%matplotlib inline"
   ]
  },
  {
   "cell_type": "markdown",
   "metadata": {},
   "source": [
    "## Extracting the dataset"
   ]
  },
  {
   "cell_type": "code",
   "execution_count": 92,
   "metadata": {},
   "outputs": [
    {
     "data": {
      "text/html": [
       "<div>\n",
       "<style scoped>\n",
       "    .dataframe tbody tr th:only-of-type {\n",
       "        vertical-align: middle;\n",
       "    }\n",
       "\n",
       "    .dataframe tbody tr th {\n",
       "        vertical-align: top;\n",
       "    }\n",
       "\n",
       "    .dataframe thead th {\n",
       "        text-align: right;\n",
       "    }\n",
       "</style>\n",
       "<table border=\"1\" class=\"dataframe\">\n",
       "  <thead>\n",
       "    <tr style=\"text-align: right;\">\n",
       "      <th></th>\n",
       "      <th>parcelid</th>\n",
       "      <th>airconditioningtypeid</th>\n",
       "      <th>architecturalstyletypeid</th>\n",
       "      <th>basementsqft</th>\n",
       "      <th>bathroomcnt</th>\n",
       "      <th>bedroomcnt</th>\n",
       "      <th>buildingclasstypeid</th>\n",
       "      <th>buildingqualitytypeid</th>\n",
       "      <th>calculatedbathnbr</th>\n",
       "      <th>decktypeid</th>\n",
       "      <th>...</th>\n",
       "      <th>numberofstories</th>\n",
       "      <th>fireplaceflag</th>\n",
       "      <th>structuretaxvaluedollarcnt</th>\n",
       "      <th>taxvaluedollarcnt</th>\n",
       "      <th>assessmentyear</th>\n",
       "      <th>landtaxvaluedollarcnt</th>\n",
       "      <th>taxamount</th>\n",
       "      <th>taxdelinquencyflag</th>\n",
       "      <th>taxdelinquencyyear</th>\n",
       "      <th>censustractandblock</th>\n",
       "    </tr>\n",
       "  </thead>\n",
       "  <tbody>\n",
       "    <tr>\n",
       "      <th>0</th>\n",
       "      <td>10754147</td>\n",
       "      <td>NaN</td>\n",
       "      <td>NaN</td>\n",
       "      <td>NaN</td>\n",
       "      <td>0.0</td>\n",
       "      <td>0.0</td>\n",
       "      <td>NaN</td>\n",
       "      <td>NaN</td>\n",
       "      <td>NaN</td>\n",
       "      <td>NaN</td>\n",
       "      <td>...</td>\n",
       "      <td>NaN</td>\n",
       "      <td>NaN</td>\n",
       "      <td>NaN</td>\n",
       "      <td>9.0</td>\n",
       "      <td>2015.0</td>\n",
       "      <td>9.0</td>\n",
       "      <td>NaN</td>\n",
       "      <td>NaN</td>\n",
       "      <td>NaN</td>\n",
       "      <td>NaN</td>\n",
       "    </tr>\n",
       "    <tr>\n",
       "      <th>1</th>\n",
       "      <td>10759547</td>\n",
       "      <td>NaN</td>\n",
       "      <td>NaN</td>\n",
       "      <td>NaN</td>\n",
       "      <td>0.0</td>\n",
       "      <td>0.0</td>\n",
       "      <td>NaN</td>\n",
       "      <td>NaN</td>\n",
       "      <td>NaN</td>\n",
       "      <td>NaN</td>\n",
       "      <td>...</td>\n",
       "      <td>NaN</td>\n",
       "      <td>NaN</td>\n",
       "      <td>NaN</td>\n",
       "      <td>27516.0</td>\n",
       "      <td>2015.0</td>\n",
       "      <td>27516.0</td>\n",
       "      <td>NaN</td>\n",
       "      <td>NaN</td>\n",
       "      <td>NaN</td>\n",
       "      <td>NaN</td>\n",
       "    </tr>\n",
       "    <tr>\n",
       "      <th>2</th>\n",
       "      <td>10843547</td>\n",
       "      <td>NaN</td>\n",
       "      <td>NaN</td>\n",
       "      <td>NaN</td>\n",
       "      <td>0.0</td>\n",
       "      <td>0.0</td>\n",
       "      <td>NaN</td>\n",
       "      <td>NaN</td>\n",
       "      <td>NaN</td>\n",
       "      <td>NaN</td>\n",
       "      <td>...</td>\n",
       "      <td>NaN</td>\n",
       "      <td>NaN</td>\n",
       "      <td>650756.0</td>\n",
       "      <td>1413387.0</td>\n",
       "      <td>2015.0</td>\n",
       "      <td>762631.0</td>\n",
       "      <td>20800.37</td>\n",
       "      <td>NaN</td>\n",
       "      <td>NaN</td>\n",
       "      <td>NaN</td>\n",
       "    </tr>\n",
       "    <tr>\n",
       "      <th>3</th>\n",
       "      <td>10859147</td>\n",
       "      <td>NaN</td>\n",
       "      <td>NaN</td>\n",
       "      <td>NaN</td>\n",
       "      <td>0.0</td>\n",
       "      <td>0.0</td>\n",
       "      <td>3.0</td>\n",
       "      <td>7.0</td>\n",
       "      <td>NaN</td>\n",
       "      <td>NaN</td>\n",
       "      <td>...</td>\n",
       "      <td>1.0</td>\n",
       "      <td>NaN</td>\n",
       "      <td>571346.0</td>\n",
       "      <td>1156834.0</td>\n",
       "      <td>2015.0</td>\n",
       "      <td>585488.0</td>\n",
       "      <td>14557.57</td>\n",
       "      <td>NaN</td>\n",
       "      <td>NaN</td>\n",
       "      <td>NaN</td>\n",
       "    </tr>\n",
       "    <tr>\n",
       "      <th>4</th>\n",
       "      <td>10879947</td>\n",
       "      <td>NaN</td>\n",
       "      <td>NaN</td>\n",
       "      <td>NaN</td>\n",
       "      <td>0.0</td>\n",
       "      <td>0.0</td>\n",
       "      <td>4.0</td>\n",
       "      <td>NaN</td>\n",
       "      <td>NaN</td>\n",
       "      <td>NaN</td>\n",
       "      <td>...</td>\n",
       "      <td>NaN</td>\n",
       "      <td>NaN</td>\n",
       "      <td>193796.0</td>\n",
       "      <td>433491.0</td>\n",
       "      <td>2015.0</td>\n",
       "      <td>239695.0</td>\n",
       "      <td>5725.17</td>\n",
       "      <td>NaN</td>\n",
       "      <td>NaN</td>\n",
       "      <td>NaN</td>\n",
       "    </tr>\n",
       "  </tbody>\n",
       "</table>\n",
       "<p>5 rows × 58 columns</p>\n",
       "</div>"
      ],
      "text/plain": [
       "   parcelid  airconditioningtypeid  architecturalstyletypeid  basementsqft  \\\n",
       "0  10754147                    NaN                       NaN           NaN   \n",
       "1  10759547                    NaN                       NaN           NaN   \n",
       "2  10843547                    NaN                       NaN           NaN   \n",
       "3  10859147                    NaN                       NaN           NaN   \n",
       "4  10879947                    NaN                       NaN           NaN   \n",
       "\n",
       "   bathroomcnt  bedroomcnt  buildingclasstypeid  buildingqualitytypeid  \\\n",
       "0          0.0         0.0                  NaN                    NaN   \n",
       "1          0.0         0.0                  NaN                    NaN   \n",
       "2          0.0         0.0                  NaN                    NaN   \n",
       "3          0.0         0.0                  3.0                    7.0   \n",
       "4          0.0         0.0                  4.0                    NaN   \n",
       "\n",
       "   calculatedbathnbr  decktypeid  ...  numberofstories  fireplaceflag  \\\n",
       "0                NaN         NaN  ...              NaN            NaN   \n",
       "1                NaN         NaN  ...              NaN            NaN   \n",
       "2                NaN         NaN  ...              NaN            NaN   \n",
       "3                NaN         NaN  ...              1.0            NaN   \n",
       "4                NaN         NaN  ...              NaN            NaN   \n",
       "\n",
       "   structuretaxvaluedollarcnt  taxvaluedollarcnt  assessmentyear  \\\n",
       "0                         NaN                9.0          2015.0   \n",
       "1                         NaN            27516.0          2015.0   \n",
       "2                    650756.0          1413387.0          2015.0   \n",
       "3                    571346.0          1156834.0          2015.0   \n",
       "4                    193796.0           433491.0          2015.0   \n",
       "\n",
       "   landtaxvaluedollarcnt  taxamount  taxdelinquencyflag  taxdelinquencyyear  \\\n",
       "0                    9.0        NaN                 NaN                 NaN   \n",
       "1                27516.0        NaN                 NaN                 NaN   \n",
       "2               762631.0   20800.37                 NaN                 NaN   \n",
       "3               585488.0   14557.57                 NaN                 NaN   \n",
       "4               239695.0    5725.17                 NaN                 NaN   \n",
       "\n",
       "   censustractandblock  \n",
       "0                  NaN  \n",
       "1                  NaN  \n",
       "2                  NaN  \n",
       "3                  NaN  \n",
       "4                  NaN  \n",
       "\n",
       "[5 rows x 58 columns]"
      ]
     },
     "execution_count": 92,
     "metadata": {},
     "output_type": "execute_result"
    }
   ],
   "source": [
    "df_train_prop2016 = pd.read_csv('properties_2016.csv')\n",
    "df_train_prop2017 = pd.read_csv('properties_2017.csv')\n",
    "df_train_prop = pd.concat([df_train_prop2016, df_train_prop2017])\n",
    "df_train_prop.head()"
   ]
  },
  {
   "cell_type": "code",
   "execution_count": 93,
   "metadata": {},
   "outputs": [
    {
     "name": "stdout",
     "output_type": "stream",
     "text": [
      "The dataset has 5970434 rows and 58 columns\n"
     ]
    }
   ],
   "source": [
    "print(r'The dataset has {rownum} rows and {colnum} columns'.format(rownum = df_train_prop.shape[0], colnum = df_train_prop.shape[1]))"
   ]
  },
  {
   "cell_type": "code",
   "execution_count": 94,
   "metadata": {},
   "outputs": [
    {
     "data": {
      "text/html": [
       "<div>\n",
       "<style scoped>\n",
       "    .dataframe tbody tr th:only-of-type {\n",
       "        vertical-align: middle;\n",
       "    }\n",
       "\n",
       "    .dataframe tbody tr th {\n",
       "        vertical-align: top;\n",
       "    }\n",
       "\n",
       "    .dataframe thead th {\n",
       "        text-align: right;\n",
       "    }\n",
       "</style>\n",
       "<table border=\"1\" class=\"dataframe\">\n",
       "  <thead>\n",
       "    <tr style=\"text-align: right;\">\n",
       "      <th></th>\n",
       "      <th>parcelid</th>\n",
       "      <th>logerror</th>\n",
       "      <th>transactiondate</th>\n",
       "    </tr>\n",
       "  </thead>\n",
       "  <tbody>\n",
       "    <tr>\n",
       "      <th>0</th>\n",
       "      <td>11016594</td>\n",
       "      <td>0.0276</td>\n",
       "      <td>2016-01-01</td>\n",
       "    </tr>\n",
       "    <tr>\n",
       "      <th>1</th>\n",
       "      <td>14366692</td>\n",
       "      <td>-0.1684</td>\n",
       "      <td>2016-01-01</td>\n",
       "    </tr>\n",
       "    <tr>\n",
       "      <th>2</th>\n",
       "      <td>12098116</td>\n",
       "      <td>-0.0040</td>\n",
       "      <td>2016-01-01</td>\n",
       "    </tr>\n",
       "    <tr>\n",
       "      <th>3</th>\n",
       "      <td>12643413</td>\n",
       "      <td>0.0218</td>\n",
       "      <td>2016-01-02</td>\n",
       "    </tr>\n",
       "    <tr>\n",
       "      <th>4</th>\n",
       "      <td>14432541</td>\n",
       "      <td>-0.0050</td>\n",
       "      <td>2016-01-02</td>\n",
       "    </tr>\n",
       "  </tbody>\n",
       "</table>\n",
       "</div>"
      ],
      "text/plain": [
       "   parcelid  logerror transactiondate\n",
       "0  11016594    0.0276      2016-01-01\n",
       "1  14366692   -0.1684      2016-01-01\n",
       "2  12098116   -0.0040      2016-01-01\n",
       "3  12643413    0.0218      2016-01-02\n",
       "4  14432541   -0.0050      2016-01-02"
      ]
     },
     "execution_count": 94,
     "metadata": {},
     "output_type": "execute_result"
    }
   ],
   "source": [
    "df_train_2016 = pd.read_csv('train_2016_v2.csv')\n",
    "df_train_2017 = pd.read_csv('train_2017.csv')\n",
    "df_train = pd.concat([df_train_2016, df_train_2017])\n",
    "df_train.head()"
   ]
  },
  {
   "cell_type": "code",
   "execution_count": 95,
   "metadata": {},
   "outputs": [
    {
     "name": "stdout",
     "output_type": "stream",
     "text": [
      "The dataset has 90275 rows and 3 columns\n"
     ]
    }
   ],
   "source": [
    "print(r'The dataset has {rownum} rows and {colnum} columns'.format(rownum = df_train_2016.shape[0], colnum = df_train_2017.shape[1]))"
   ]
  },
  {
   "cell_type": "code",
   "execution_count": 96,
   "metadata": {},
   "outputs": [],
   "source": [
    "df = pd.merge(df_train_prop,   df_train,  on=\"parcelid\", how=\"inner\")"
   ]
  },
  {
   "cell_type": "code",
   "execution_count": 97,
   "metadata": {},
   "outputs": [
    {
     "name": "stdout",
     "output_type": "stream",
     "text": [
      "The dataset has 167888 rows and 3 columns\n"
     ]
    }
   ],
   "source": [
    "print(r'The dataset has {rownum} rows and {colnum} columns'.format(rownum = df_train.shape[0], colnum = df_train.shape[1]))"
   ]
  },
  {
   "cell_type": "code",
   "execution_count": 98,
   "metadata": {},
   "outputs": [
    {
     "data": {
      "text/plain": [
       "3233"
      ]
     },
     "execution_count": 98,
     "metadata": {},
     "output_type": "execute_result"
    }
   ],
   "source": [
    "# Delete the old DataFrame\n",
    "del [df_train_prop, df_train, df_train_2016, df_train_2017, df_train_prop2016, df_train_prop2017]\n",
    " \n",
    "# Perform garbage collection\n",
    "gc.collect()"
   ]
  },
  {
   "cell_type": "markdown",
   "metadata": {},
   "source": [
    "## Data preprocessing"
   ]
  },
  {
   "cell_type": "code",
   "execution_count": 99,
   "metadata": {},
   "outputs": [
    {
     "name": "stdout",
     "output_type": "stream",
     "text": [
      "<class 'pandas.core.frame.DataFrame'>\n",
      "RangeIndex: 335776 entries, 0 to 335775\n",
      "Data columns (total 60 columns):\n",
      " #   Column                        Non-Null Count   Dtype  \n",
      "---  ------                        --------------   -----  \n",
      " 0   parcelid                      335776 non-null  int64  \n",
      " 1   airconditioningtypeid         107623 non-null  float64\n",
      " 2   architecturalstyletypeid      936 non-null     float64\n",
      " 3   basementsqft                  186 non-null     float64\n",
      " 4   bathroomcnt                   335601 non-null  float64\n",
      " 5   bedroomcnt                    335601 non-null  float64\n",
      " 6   buildingclasstypeid           63 non-null      float64\n",
      " 7   buildingqualitytypeid         214377 non-null  float64\n",
      " 8   calculatedbathnbr             332216 non-null  float64\n",
      " 9   decktypeid                    2548 non-null    float64\n",
      " 10  finishedfloor1squarefeet      25851 non-null   float64\n",
      " 11  calculatedfinishedsquarefeet  334084 non-null  float64\n",
      " 12  finishedsquarefeet12          319156 non-null  float64\n",
      " 13  finishedsquarefeet13          150 non-null     float64\n",
      " 14  finishedsquarefeet15          13174 non-null   float64\n",
      " 15  finishedsquarefeet50          25851 non-null   float64\n",
      " 16  finishedsquarefeet6           1604 non-null    float64\n",
      " 17  fips                          335601 non-null  float64\n",
      " 18  fireplacecnt                  35816 non-null   float64\n",
      " 19  fullbathcnt                   332216 non-null  float64\n",
      " 20  garagecarcnt                  110992 non-null  float64\n",
      " 21  garagetotalsqft               110992 non-null  float64\n",
      " 22  hashottuborspa                7781 non-null    object \n",
      " 23  heatingorsystemtypeid         211498 non-null  float64\n",
      " 24  latitude                      335601 non-null  float64\n",
      " 25  longitude                     335601 non-null  float64\n",
      " 26  lotsizesquarefeet             298855 non-null  float64\n",
      " 27  poolcnt                       68152 non-null   float64\n",
      " 28  poolsizesum                   3676 non-null    float64\n",
      " 29  pooltypeid10                  3239 non-null    float64\n",
      " 30  pooltypeid2                   4542 non-null    float64\n",
      " 31  pooltypeid7                   63563 non-null   float64\n",
      " 32  propertycountylandusecode     335600 non-null  object \n",
      " 33  propertylandusetypeid         335601 non-null  float64\n",
      " 34  propertyzoningdesc            217498 non-null  object \n",
      " 35  rawcensustractandblock        335601 non-null  float64\n",
      " 36  regionidcity                  329081 non-null  float64\n",
      " 37  regionidcounty                335601 non-null  float64\n",
      " 38  regionidneighborhood          133921 non-null  float64\n",
      " 39  regionidzip                   335458 non-null  float64\n",
      " 40  roomcnt                       335601 non-null  float64\n",
      " 41  storytypeid                   186 non-null     float64\n",
      " 42  threequarterbathnbr           44255 non-null   float64\n",
      " 43  typeconstructiontypeid        1044 non-null    float64\n",
      " 44  unitcnt                       218142 non-null  float64\n",
      " 45  yardbuildingsqft17            10082 non-null   float64\n",
      " 46  yardbuildingsqft26            330 non-null     float64\n",
      " 47  yearbuilt                     333726 non-null  float64\n",
      " 48  numberofstories               76404 non-null   float64\n",
      " 49  fireplaceflag                 788 non-null     object \n",
      " 50  structuretaxvaluedollarcnt    334723 non-null  float64\n",
      " 51  taxvaluedollarcnt             335598 non-null  float64\n",
      " 52  assessmentyear                335601 non-null  float64\n",
      " 53  landtaxvaluedollarcnt         335596 non-null  float64\n",
      " 54  taxamount                     335576 non-null  float64\n",
      " 55  taxdelinquencyflag            9366 non-null    object \n",
      " 56  taxdelinquencyyear            9366 non-null    float64\n",
      " 57  censustractandblock           333953 non-null  float64\n",
      " 58  logerror                      335776 non-null  float64\n",
      " 59  transactiondate               335776 non-null  object \n",
      "dtypes: float64(53), int64(1), object(6)\n",
      "memory usage: 153.7+ MB\n"
     ]
    }
   ],
   "source": [
    "df.info()"
   ]
  },
  {
   "cell_type": "code",
   "execution_count": 100,
   "metadata": {},
   "outputs": [
    {
     "data": {
      "text/plain": [
       "parcelid                         0.000000\n",
       "airconditioningtypeid           67.947977\n",
       "architecturalstyletypeid        99.721243\n",
       "basementsqft                    99.944606\n",
       "bathroomcnt                      0.052118\n",
       "bedroomcnt                       0.052118\n",
       "buildingclasstypeid             99.981237\n",
       "buildingqualitytypeid           36.154758\n",
       "calculatedbathnbr                1.060231\n",
       "decktypeid                      99.241161\n",
       "finishedfloor1squarefeet        92.301117\n",
       "calculatedfinishedsquarefeet     0.503907\n",
       "finishedsquarefeet12             4.949728\n",
       "finishedsquarefeet13            99.955327\n",
       "finishedsquarefeet15            96.076551\n",
       "finishedsquarefeet50            92.301117\n",
       "finishedsquarefeet6             99.522301\n",
       "fips                             0.052118\n",
       "fireplacecnt                    89.333365\n",
       "fullbathcnt                      1.060231\n",
       "garagecarcnt                    66.944630\n",
       "garagetotalsqft                 66.944630\n",
       "hashottuborspa                  97.682681\n",
       "heatingorsystemtypeid           37.012175\n",
       "latitude                         0.052118\n",
       "longitude                        0.052118\n",
       "lotsizesquarefeet               10.995723\n",
       "poolcnt                         79.703135\n",
       "poolsizesum                     98.905223\n",
       "pooltypeid10                    99.035369\n",
       "pooltypeid2                     98.647312\n",
       "pooltypeid7                     81.069820\n",
       "propertycountylandusecode        0.052416\n",
       "propertylandusetypeid            0.052118\n",
       "propertyzoningdesc              35.225269\n",
       "rawcensustractandblock           0.052118\n",
       "regionidcity                     1.993889\n",
       "regionidcounty                   0.052118\n",
       "regionidneighborhood            60.115970\n",
       "regionidzip                      0.094706\n",
       "roomcnt                          0.052118\n",
       "storytypeid                     99.944606\n",
       "threequarterbathnbr             86.820082\n",
       "typeconstructiontypeid          99.689078\n",
       "unitcnt                         35.033475\n",
       "yardbuildingsqft17              96.997403\n",
       "yardbuildingsqft26              99.901720\n",
       "yearbuilt                        0.610526\n",
       "numberofstories                 77.245545\n",
       "fireplaceflag                   99.765320\n",
       "structuretaxvaluedollarcnt       0.313602\n",
       "taxvaluedollarcnt                0.053012\n",
       "assessmentyear                   0.052118\n",
       "landtaxvaluedollarcnt            0.053607\n",
       "taxamount                        0.059564\n",
       "taxdelinquencyflag              97.210640\n",
       "taxdelinquencyyear              97.210640\n",
       "censustractandblock              0.542921\n",
       "logerror                         0.000000\n",
       "transactiondate                  0.000000\n",
       "dtype: float64"
      ]
     },
     "execution_count": 100,
     "metadata": {},
     "output_type": "execute_result"
    }
   ],
   "source": [
    "df.isnull().sum() / df.shape[0] * 100.00"
   ]
  },
  {
   "cell_type": "markdown",
   "metadata": {},
   "source": [
    "There a huge percentage of missing values in the columns"
   ]
  },
  {
   "cell_type": "code",
   "execution_count": 101,
   "metadata": {},
   "outputs": [],
   "source": [
    "# Filling the missing values with a new id (Unknown) based on the data dictionary\n",
    "df = df.fillna({'airconditioningtypeid': 14,\n",
    "                'architecturalstyletypeid': 28,\n",
    "                'buildingclasstypeid': 6,\n",
    "                'heatingorsystemtypeid' : 26,\n",
    "                'storytypeid' : 36,\n",
    "                'typeconstructiontypeid' : 19\n",
    "                })"
   ]
  },
  {
   "cell_type": "code",
   "execution_count": 102,
   "metadata": {},
   "outputs": [],
   "source": [
    "df.drop(['decktypeid', 'calculatedbathnbr', 'fips', 'regionidcity', 'regionidcounty', 'regionidneighborhood', 'regionidzip', 'propertyzoningdesc',\n",
    "         'basementsqft', 'finishedfloor1squarefeet', \n",
    "         'rawcensustractandblock', 'propertycountylandusecode', 'censustractandblock', 'parcelid'], axis=1, inplace=True)"
   ]
  },
  {
   "cell_type": "code",
   "execution_count": null,
   "metadata": {},
   "outputs": [],
   "source": [
    "df.drop_duplicates(inplace=True)"
   ]
  },
  {
   "cell_type": "code",
   "execution_count": null,
   "metadata": {},
   "outputs": [],
   "source": [
    "# Enconding booleans as 1 or 0\n",
    "booleanColumns = ['hashottuborspa', 'fireplaceflag', 'taxdelinquencyflag']\n",
    "for column in booleanColumns:\n",
    "    df[column] = df[column].apply(lambda x: 1 if x == True or x == 'Y' else 0)"
   ]
  },
  {
   "cell_type": "code",
   "execution_count": null,
   "metadata": {},
   "outputs": [],
   "source": [
    "# Checking the years of deliquency depending on the flag\n",
    "df.groupby(['taxdelinquencyyear', 'taxdelinquencyflag']).size()"
   ]
  },
  {
   "cell_type": "markdown",
   "metadata": {},
   "source": [
    "- It shows only years when the flag is 1, it can be filled the missing ones with 0"
   ]
  },
  {
   "cell_type": "code",
   "execution_count": 78,
   "metadata": {},
   "outputs": [],
   "source": [
    "# Filling with 0\n",
    "df = df.fillna({'taxdelinquencyyear': 0})"
   ]
  },
  {
   "cell_type": "code",
   "execution_count": 83,
   "metadata": {},
   "outputs": [],
   "source": [
    "# # Adding the median for missing values in 'Mileage\", \"Engine\", \"Power\", grouping by Manufacturer\n",
    "# df[[\"basementsqft\", \"bathroomcnt\", \"bedroomcnt\"]] = df.groupby(['airconditioningtypeid', 'architecturalstyletypeid', 'buildingclasstypeid', 'heatingorsystemtypeid',\n",
    "#                                                       'latitude', 'longitude', 'propertylandusetypeid', 'storytypeid', 'fireplaceflag', 'taxdelinquencyflag', \n",
    "#                                                       'taxdelinquencyyear', 'transactiondate'\n",
    "#                                                       ])[[\"basementsqft\", \"bathroomcnt\", \"bedroomcnt\"]].transform(lambda x: x.fillna(x.median()))"
   ]
  },
  {
   "cell_type": "code",
   "execution_count": 105,
   "metadata": {},
   "outputs": [
    {
     "data": {
      "text/plain": [
       "airconditioningtypeid            0.000000\n",
       "architecturalstyletypeid         0.000000\n",
       "bathroomcnt                      0.052118\n",
       "bedroomcnt                       0.052118\n",
       "buildingclasstypeid              0.000000\n",
       "buildingqualitytypeid           36.154758\n",
       "finishedfloor1squarefeet        92.301117\n",
       "calculatedfinishedsquarefeet     0.503907\n",
       "finishedsquarefeet12             4.949728\n",
       "finishedsquarefeet13            99.955327\n",
       "finishedsquarefeet15            96.076551\n",
       "finishedsquarefeet50            92.301117\n",
       "finishedsquarefeet6             99.522301\n",
       "fireplacecnt                    89.333365\n",
       "fullbathcnt                      1.060231\n",
       "garagecarcnt                    66.944630\n",
       "garagetotalsqft                 66.944630\n",
       "hashottuborspa                  97.682681\n",
       "heatingorsystemtypeid            0.000000\n",
       "latitude                         0.052118\n",
       "longitude                        0.052118\n",
       "lotsizesquarefeet               10.995723\n",
       "poolcnt                         79.703135\n",
       "poolsizesum                     98.905223\n",
       "pooltypeid10                    99.035369\n",
       "pooltypeid2                     98.647312\n",
       "pooltypeid7                     81.069820\n",
       "propertylandusetypeid            0.052118\n",
       "roomcnt                          0.052118\n",
       "storytypeid                      0.000000\n",
       "threequarterbathnbr             86.820082\n",
       "typeconstructiontypeid           0.000000\n",
       "unitcnt                         35.033475\n",
       "yardbuildingsqft17              96.997403\n",
       "yardbuildingsqft26              99.901720\n",
       "yearbuilt                        0.610526\n",
       "numberofstories                 77.245545\n",
       "fireplaceflag                   99.765320\n",
       "structuretaxvaluedollarcnt       0.313602\n",
       "taxvaluedollarcnt                0.053012\n",
       "assessmentyear                   0.052118\n",
       "landtaxvaluedollarcnt            0.053607\n",
       "taxamount                        0.059564\n",
       "taxdelinquencyflag              97.210640\n",
       "taxdelinquencyyear              97.210640\n",
       "logerror                         0.000000\n",
       "transactiondate                  0.000000\n",
       "dtype: float64"
      ]
     },
     "execution_count": 105,
     "metadata": {},
     "output_type": "execute_result"
    }
   ],
   "source": [
    "df.isnull().sum() / df.shape[0] * 100.00"
   ]
  },
  {
   "cell_type": "code",
   "execution_count": 74,
   "metadata": {},
   "outputs": [],
   "source": [
    "df[\"transactiondate\"] = pd.to_datetime(df[\"transactiondate\"], format=\"%Y-%m-%d\")"
   ]
  },
  {
   "cell_type": "markdown",
   "metadata": {},
   "source": [
    "## Exploratory Data Analysis"
   ]
  }
 ],
 "metadata": {
  "kernelspec": {
   "display_name": "base",
   "language": "python",
   "name": "python3"
  },
  "language_info": {
   "codemirror_mode": {
    "name": "ipython",
    "version": 3
   },
   "file_extension": ".py",
   "mimetype": "text/x-python",
   "name": "python",
   "nbconvert_exporter": "python",
   "pygments_lexer": "ipython3",
   "version": "3.11.7"
  }
 },
 "nbformat": 4,
 "nbformat_minor": 2
}
